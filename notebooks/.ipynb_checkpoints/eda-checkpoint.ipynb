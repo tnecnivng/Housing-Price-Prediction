{
 "cells": [
  {
   "cell_type": "code",
   "execution_count": null,
   "id": "4435e806",
   "metadata": {
    "vscode": {
     "languageId": "plaintext"
    }
   },
   "outputs": [],
   "source": [
    "import pandas as pd\n",
    "import seaborn as sns\n",
    "import matplotlib.pyplot as plt\n",
    "import numpy as np\n",
    "\n",
    "# Setup\n",
    "sns.set(style=\"whitegrid\")\n",
    "plt.rcParams[\"figure.figsize\"] = (10, 6)\n",
    "\n",
    "# Load dataset\n",
    "df = pd.read_csv(\"../data/raw/train.csv\")\n",
    "\n",
    "# Drop ID column\n",
    "df.drop(columns=[\"Id\"], inplace=True)\n",
    "\n",
    "# Quick info\n",
    "print(\"Shape:\", df.shape)\n",
    "print(\"Missing values (top 10):\\n\", df.isnull().sum().sort_values(ascending=False).head(10))\n",
    "\n",
    "# SalePrice distribution\n",
    "sns.histplot(df[\"SalePrice\"], bins=30, kde=True)\n",
    "plt.title(\"Sale Price Distribution\")\n",
    "plt.xlabel(\"Sale Price\")\n",
    "plt.ylabel(\"Count\")\n",
    "plt.tight_layout()\n",
    "plt.savefig(\"../outputs/charts/saleprice_distribution.png\")\n",
    "plt.show()\n",
    "\n",
    "# Skewness & kurtosis\n",
    "print(\"Skewness:\", df[\"SalePrice\"].skew())\n",
    "print(\"Kurtosis:\", df[\"SalePrice\"].kurt())\n",
    "\n",
    "# Correlation heatmap (top 10)\n",
    "top_corr = df.corr()[\"SalePrice\"].abs().sort_values(ascending=False).head(10).index\n",
    "sns.heatmap(df[top_corr].corr(), annot=True, cmap=\"coolwarm\", fmt=\".2f\")\n",
    "plt.title(\"Top Correlated Features with Sale Price\")\n",
    "plt.tight_layout()\n",
    "plt.savefig(\"../outputs/charts/top_corr_heatmap.png\")\n",
    "plt.show()\n",
    "\n",
    "# Numeric feature distributions (optional)\n",
    "num_cols = df.select_dtypes(include=[\"int64\", \"float64\"]).columns.drop(\"SalePrice\")\n",
    "df[num_cols].hist(figsize=(15, 10), bins=20, edgecolor=\"black\")\n",
    "plt.tight_layout()\n",
    "plt.savefig(\"../outputs/charts/numeric_distributions.png\")\n",
    "plt.show()\n"
   ]
  }
 ],
 "metadata": {
  "language_info": {
   "name": "python"
  }
 },
 "nbformat": 4,
 "nbformat_minor": 5
}
