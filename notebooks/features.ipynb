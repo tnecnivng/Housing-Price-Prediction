{
 "cells": [
  {
   "cell_type": "code",
   "execution_count": 3,
   "id": "c37f9e01",
   "metadata": {
    "vscode": {
     "languageId": "plaintext"
    }
   },
   "outputs": [],
   "source": [
    "import pandas as pd\n",
    "import numpy as np\n",
    "from sklearn.model_selection import train_test_split\n",
    "from sklearn.preprocessing import StandardScaler\n",
    "from sklearn.impute import SimpleImputer\n",
    "from sklearn.compose import ColumnTransformer\n",
    "from sklearn.pipeline import Pipeline\n",
    "from sklearn.preprocessing import OneHotEncoder\n",
    "\n",
    "# Load data\n",
    "df = pd.read_csv(\"../data/raw/train.csv\")\n",
    "\n",
    "# Drop ID (not predictive)\n",
    "df.drop(columns=[\"Id\"], inplace=True)\n",
    "\n",
    "# Separate target variable\n",
    "y = df[\"SalePrice\"]\n",
    "X = df.drop(\"SalePrice\", axis=1)\n",
    "\n",
    "# Identify column types\n",
    "num_cols = X.select_dtypes(include=[\"int64\", \"float64\"]).columns.tolist()\n",
    "cat_cols = X.select_dtypes(include=[\"object\"]).columns.tolist()\n",
    "\n",
    "# Drop columns with >40% missing values (optional rule of thumb)\n",
    "drop_cols = X.columns[X.isnull().mean() > 0.4]\n",
    "X.drop(columns=drop_cols, inplace=True)\n",
    "num_cols = [col for col in num_cols if col not in drop_cols]\n",
    "cat_cols = [col for col in cat_cols if col not in drop_cols]\n",
    "\n",
    "# Define preprocessing pipelines\n",
    "num_pipeline = Pipeline(steps=[\n",
    "    (\"imputer\", SimpleImputer(strategy=\"median\")),\n",
    "    (\"scaler\", StandardScaler())\n",
    "])\n",
    "\n",
    "cat_pipeline = Pipeline(steps=[\n",
    "    (\"imputer\", SimpleImputer(strategy=\"constant\", fill_value=\"Missing\")),\n",
    "    (\"encoder\", OneHotEncoder(handle_unknown=\"ignore\", sparse_output=False))\n",
    "])\n",
    "\n",
    "# Combine pipelines\n",
    "preprocessor = ColumnTransformer(transformers=[\n",
    "    (\"num\", num_pipeline, num_cols),\n",
    "    (\"cat\", cat_pipeline, cat_cols)\n",
    "])\n",
    "\n",
    "# Fit-transform the data\n",
    "X_processed = preprocessor.fit_transform(X)\n",
    "\n",
    "# Get feature names\n",
    "cat_encoded_names = preprocessor.named_transformers_[\"cat\"][\"encoder\"].get_feature_names_out(cat_cols)\n",
    "feature_names = np.concatenate([num_cols, cat_encoded_names])\n",
    "\n",
    "# Convert to DataFrame\n",
    "X_df = pd.DataFrame(X_processed, columns=feature_names)\n",
    "\n",
    "# Train/test split\n",
    "X_train, X_test, y_train, y_test = train_test_split(X_df, y, test_size=0.2, random_state=42)\n",
    "\n",
    "# Save processed datasets\n",
    "X_train.to_csv(\"../data/X_train.csv\", index=False)\n",
    "X_test.to_csv(\"../data/X_test.csv\", index=False)\n",
    "y_train.to_csv(\"../data/y_train.csv\", index=False)\n",
    "y_test.to_csv(\"../data/y_test.csv\", index=False)"
   ]
  },
  {
   "cell_type": "code",
   "execution_count": null,
   "id": "ec7a027d-e958-40a0-82eb-96f1535f5957",
   "metadata": {},
   "outputs": [],
   "source": []
  }
 ],
 "metadata": {
  "kernelspec": {
   "display_name": "Python 3 (ipykernel)",
   "language": "python",
   "name": "python3"
  },
  "language_info": {
   "codemirror_mode": {
    "name": "ipython",
    "version": 3
   },
   "file_extension": ".py",
   "mimetype": "text/x-python",
   "name": "python",
   "nbconvert_exporter": "python",
   "pygments_lexer": "ipython3",
   "version": "3.13.3"
  }
 },
 "nbformat": 4,
 "nbformat_minor": 5
}
